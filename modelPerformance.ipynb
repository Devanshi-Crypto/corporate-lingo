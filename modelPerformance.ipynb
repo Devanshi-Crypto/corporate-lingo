{
 "cells": [
  {
   "cell_type": "code",
   "execution_count": 15,
   "metadata": {},
   "outputs": [],
   "source": [
    "import pandas as pd\n",
    "import numpy as np\n",
    "from sklearn.model_selection import train_test_split\n",
    "from sklearn.feature_extraction.text import TfidfVectorizer\n",
    "from sklearn.naive_bayes import MultinomialNB\n",
    "from sklearn.svm import LinearSVC\n",
    "from sklearn.ensemble import RandomForestClassifier\n",
    "from sklearn.linear_model import LogisticRegression\n",
    "from sklearn.metrics import classification_report, accuracy_score\n",
    "from sklearn.impute import SimpleImputer\n"
   ]
  },
  {
   "cell_type": "code",
   "execution_count": 1,
   "metadata": {},
   "outputs": [
    {
     "name": "stdout",
     "output_type": "stream",
     "text": [
      "               Term                                         Definition  \\\n",
      "0               2.0                 the improved version of something.   \n",
      "1  30,000-feet view        looking at something in the broadest sense.   \n",
      "2             80/20  finding the way that will lead to the most pro...   \n",
      "3       Action item                    something that has to get done.   \n",
      "4        Actionable                                                NaN   \n",
      "\n",
      "                                             Example  \n",
      "0           \"Let's call this the Strategic Plan 2.0\"  \n",
      "1       \"At the 30,000-feet view, the problem is...\"  \n",
      "2  \"We don't have time to do a full analysis. Let...  \n",
      "3    \"Did any action items come out of the meeting?\"  \n",
      "4  \"Your email isn't actionable enough. What do y...  \n"
     ]
    }
   ],
   "source": [
    "#Load data\n",
    "import pandas as pd\n",
    "df = pd.read_csv('corporate_lingo.csv')\n",
    "print(df.head())"
   ]
  },
  {
   "cell_type": "code",
   "execution_count": 4,
   "metadata": {},
   "outputs": [],
   "source": [
    "# Combine 'Definition' and 'Example' columns, handling NaN values\n",
    "df['Text'] = df['Definition'].fillna('') + ' ' + df['Example'].fillna('')"
   ]
  },
  {
   "cell_type": "code",
   "execution_count": 8,
   "metadata": {},
   "outputs": [],
   "source": [
    "\n",
    "# Remove any rows where 'Text' is empty after combining\n",
    "df = df[df['Text'].str.strip() != '']\n",
    "\n",
    "# Prepare features (X) and target (y)\n",
    "X = df['Text']\n",
    "y = df['Term']"
   ]
  },
  {
   "cell_type": "code",
   "execution_count": 9,
   "metadata": {},
   "outputs": [],
   "source": [
    "X_train, X_test,y_train,y_test = train_test_split(X,y, test_size =0.2,random_state=42)"
   ]
  },
  {
   "cell_type": "code",
   "execution_count": 10,
   "metadata": {},
   "outputs": [],
   "source": [
    "# Initialize and fit the TfidfVectorizer\n",
    "vectorizer = TfidfVectorizer(stop_words='english')\n",
    "X_train_vectorized = vectorizer.fit_transform(X_train)\n",
    "X_test_vectorized = vectorizer.transform(X_test)"
   ]
  },
  {
   "cell_type": "code",
   "execution_count": 38,
   "metadata": {},
   "outputs": [],
   "source": [
    "# Initialize models\n",
    "models = {\n",
    "    'Multinomial Naive Bayes': MultinomialNB(),\n",
    "    'Linear SVM': LinearSVC(random_state=42),\n",
    "    'Random Forest': RandomForestClassifier(random_state=42),\n",
    "    'Logistic Regression': LogisticRegression(random_state=42)\n",
    "}\n",
    "\n",
    "models['TfidfVectorizer'] = vectorizer"
   ]
  },
  {
   "cell_type": "code",
   "execution_count": 16,
   "metadata": {},
   "outputs": [
    {
     "name": "stdout",
     "output_type": "stream",
     "text": [
      "\n",
      "Multinomial Naive Bayes:\n",
      "Accuracy: 0.0000\n",
      "[[0 0 0 ... 0 0 0]\n",
      " [0 0 0 ... 0 0 0]\n",
      " [0 0 0 ... 0 0 0]\n",
      " ...\n",
      " [0 0 0 ... 0 0 0]\n",
      " [0 0 0 ... 0 0 0]\n",
      " [0 0 0 ... 0 0 0]]\n",
      "                                       precision    recall  f1-score   support\n",
      "\n",
      "                                  2.0       0.00      0.00      0.00       0.0\n",
      "                                80/20       0.00      0.00      0.00       0.0\n",
      "                                   AP       0.00      0.00      0.00       1.0\n",
      "                            Add value       0.00      0.00      0.00       1.0\n",
      "                               Agenda       0.00      0.00      0.00       0.0\n",
      "                                  B2B       0.00      0.00      0.00       0.0\n",
      "                                  B2C       0.00      0.00      0.00       1.0\n",
      "               Backburner/Frontburner       0.00      0.00      0.00       1.0\n",
      "                            Bandwidth       0.00      0.00      0.00       1.0\n",
      "                           Bellwether       0.00      0.00      0.00       1.0\n",
      "                             Blessing       0.00      0.00      0.00       0.0\n",
      "                Blocking and tackling       0.00      0.00      0.00       1.0\n",
      "                              Buckets       0.00      0.00      0.00       1.0\n",
      "                  Chatham House Rules       0.00      0.00      0.00       0.0\n",
      "                          Circle back       0.00      0.00      0.00       0.0\n",
      "Committee / Taskforce / Working Group       0.00      0.00      0.00       1.0\n",
      "                              Consult       0.00      0.00      0.00       0.0\n",
      "                      Core competency       0.00      0.00      0.00       1.0\n",
      "                          Deliverable       0.00      0.00      0.00       1.0\n",
      "                                Delta       0.00      0.00      0.00       0.0\n",
      "                        Dive right in       0.00      0.00      0.00       0.0\n",
      "                           Dry powder       0.00      0.00      0.00       1.0\n",
      "                        Due diligence       0.00      0.00      0.00       0.0\n",
      "                                   EA       0.00      0.00      0.00       0.0\n",
      "                              EOD/EOW       0.00      0.00      0.00       0.0\n",
      "                 Elephant in the room       0.00      0.00      0.00       1.0\n",
      "                   Executive decision       0.00      0.00      0.00       1.0\n",
      "                    Executive summary       0.00      0.00      0.00       1.0\n",
      "                                  FTE       0.00      0.00      0.00       1.0\n",
      "                First pass/quick pass       0.00      0.00      0.00       1.0\n",
      "                        Going forward       0.00      0.00      0.00       0.0\n",
      "                       Grandfathering       0.00      0.00      0.00       1.0\n",
      "                             Gut feel       0.00      0.00      0.00       1.0\n",
      "                             Has legs       0.00      0.00      0.00       0.0\n",
      "                                HiPPO       0.00      0.00      0.00       0.0\n",
      "                      In the pipeline       0.00      0.00      0.00       0.0\n",
      "                              Inherit       0.00      0.00      0.00       0.0\n",
      "                     It is what it is       0.00      0.00      0.00       0.0\n",
      "                         Key takeaway       0.00      0.00      0.00       1.0\n",
      "                            Level set       0.00      0.00      0.00       0.0\n",
      "         Light a fire under (someone)       0.00      0.00      0.00       0.0\n",
      "                                 MECE       0.00      0.00      0.00       0.0\n",
      "                                Model       0.00      0.00      0.00       1.0\n",
      "      Move the needle / Move the dial       0.00      0.00      0.00       0.0\n",
      "                              Net-net       0.00      0.00      0.00       1.0\n",
      "                             On board       0.00      0.00      0.00       1.0\n",
      "                          Optionality       0.00      0.00      0.00       1.0\n",
      "                        Out of pocket       0.00      0.00      0.00       1.0\n",
      "                                  POV       0.00      0.00      0.00       1.0\n",
      "                              Panacea       0.00      0.00      0.00       0.0\n",
      "                        Pressure test       0.00      0.00      0.00       1.0\n",
      "                Put on the backburner       0.00      0.00      0.00       0.0\n",
      "                          Quarter / Q       0.00      0.00      0.00       1.0\n",
      "                              Roadmap       0.00      0.00      0.00       0.0\n",
      "                       Rocket science       0.00      0.00      0.00       0.0\n",
      "                              Save up       0.00      0.00      0.00       0.0\n",
      "                             Scalable       0.00      0.00      0.00       1.0\n",
      "                              Segment       0.00      0.00      0.00       1.0\n",
      "                        Shiny objects       0.00      0.00      0.00       1.0\n",
      "                         Skip manager       0.00      0.00      0.00       0.0\n",
      "  Skunkworks (or Skunk Works Project)       0.00      0.00      0.00       1.0\n",
      "                            Socialize       0.00      0.00      0.00       1.0\n",
      "                         Stakeholders       0.00      0.00      0.00       1.0\n",
      "                             Strawman       0.00      0.00      0.00       1.0\n",
      "                    Table (something)       0.00      0.00      0.00       1.0\n",
      "                              Timebox       0.00      0.00      0.00       0.0\n",
      "                          Triangulate       0.00      0.00      0.00       0.0\n",
      "                            Two cents       0.00      0.00      0.00       0.0\n",
      "                    Value engineering       0.00      0.00      0.00       1.0\n",
      "       Value prop / Value proposition       0.00      0.00      0.00       0.0\n",
      "             Wrap (one's) head around       0.00      0.00      0.00       1.0\n",
      "                                  YTD       0.00      0.00      0.00       0.0\n",
      "\n",
      "                             accuracy                           0.00      38.0\n",
      "                            macro avg       0.00      0.00      0.00      38.0\n",
      "                         weighted avg       0.00      0.00      0.00      38.0\n",
      "\n",
      "\n",
      "Linear SVM:\n",
      "Accuracy: 0.0000\n",
      "[[0 0 0 ... 0 0 0]\n",
      " [0 0 0 ... 0 0 0]\n",
      " [0 0 0 ... 1 0 0]\n",
      " ...\n",
      " [0 0 0 ... 0 0 0]\n",
      " [0 0 0 ... 0 0 0]\n",
      " [0 0 0 ... 0 0 0]]\n",
      "                                       precision    recall  f1-score   support\n",
      "\n",
      "                                80/20       0.00      0.00      0.00       0.0\n",
      "                                   AP       0.00      0.00      0.00       1.0\n",
      "                            Add value       0.00      0.00      0.00       1.0\n",
      "                                  B2B       0.00      0.00      0.00       0.0\n",
      "                                  B2C       0.00      0.00      0.00       1.0\n",
      "               Backburner/Frontburner       0.00      0.00      0.00       1.0\n",
      "                            Bandwidth       0.00      0.00      0.00       1.0\n",
      "                           Bellwether       0.00      0.00      0.00       1.0\n",
      "                Blocking and tackling       0.00      0.00      0.00       1.0\n",
      "                              Buckets       0.00      0.00      0.00       1.0\n",
      "                  Chatham House Rules       0.00      0.00      0.00       0.0\n",
      "                          Circle back       0.00      0.00      0.00       0.0\n",
      "Committee / Taskforce / Working Group       0.00      0.00      0.00       1.0\n",
      "                              Consult       0.00      0.00      0.00       0.0\n",
      "                      Core competency       0.00      0.00      0.00       1.0\n",
      "                          Deliverable       0.00      0.00      0.00       1.0\n",
      "                                Delta       0.00      0.00      0.00       0.0\n",
      "                        Dive right in       0.00      0.00      0.00       0.0\n",
      "                           Dry powder       0.00      0.00      0.00       1.0\n",
      "                        Due diligence       0.00      0.00      0.00       0.0\n",
      "                                   EA       0.00      0.00      0.00       0.0\n",
      "                              EOD/EOW       0.00      0.00      0.00       0.0\n",
      "                 Elephant in the room       0.00      0.00      0.00       1.0\n",
      "                   Executive decision       0.00      0.00      0.00       1.0\n",
      "                    Executive summary       0.00      0.00      0.00       1.0\n",
      "                                  FTE       0.00      0.00      0.00       1.0\n",
      "                                  FYI       0.00      0.00      0.00       0.0\n",
      "                First pass/quick pass       0.00      0.00      0.00       1.0\n",
      "                        Going forward       0.00      0.00      0.00       0.0\n",
      "                       Grandfathering       0.00      0.00      0.00       1.0\n",
      "                             Granular       0.00      0.00      0.00       0.0\n",
      "                             Gut feel       0.00      0.00      0.00       1.0\n",
      "                             Has legs       0.00      0.00      0.00       0.0\n",
      "                                HiPPO       0.00      0.00      0.00       0.0\n",
      "                              Inherit       0.00      0.00      0.00       0.0\n",
      "                     It is what it is       0.00      0.00      0.00       0.0\n",
      "                         Key takeaway       0.00      0.00      0.00       1.0\n",
      "                            Level set       0.00      0.00      0.00       0.0\n",
      "         Light a fire under (someone)       0.00      0.00      0.00       0.0\n",
      "                                 MECE       0.00      0.00      0.00       0.0\n",
      "                                Model       0.00      0.00      0.00       1.0\n",
      "      Move the needle / Move the dial       0.00      0.00      0.00       0.0\n",
      "                              Net-net       0.00      0.00      0.00       1.0\n",
      "                             On board       0.00      0.00      0.00       1.0\n",
      "                          On my radar       0.00      0.00      0.00       0.0\n",
      "                     On the same page       0.00      0.00      0.00       0.0\n",
      "                          Optionality       0.00      0.00      0.00       1.0\n",
      "                        Out of pocket       0.00      0.00      0.00       1.0\n",
      "                                  POV       0.00      0.00      0.00       1.0\n",
      "                              Panacea       0.00      0.00      0.00       0.0\n",
      "                        Pressure test       0.00      0.00      0.00       1.0\n",
      "                Put on the backburner       0.00      0.00      0.00       0.0\n",
      "                                   QC       0.00      0.00      0.00       0.0\n",
      "                          Quarter / Q       0.00      0.00      0.00       1.0\n",
      "                              Roadmap       0.00      0.00      0.00       0.0\n",
      "                       Rocket science       0.00      0.00      0.00       0.0\n",
      "                              Save up       0.00      0.00      0.00       0.0\n",
      "                             Scalable       0.00      0.00      0.00       1.0\n",
      "                              Segment       0.00      0.00      0.00       1.0\n",
      "                        Shiny objects       0.00      0.00      0.00       1.0\n",
      "  Skunkworks (or Skunk Works Project)       0.00      0.00      0.00       1.0\n",
      "                            Socialize       0.00      0.00      0.00       1.0\n",
      "                         Stakeholders       0.00      0.00      0.00       1.0\n",
      "                             Strawman       0.00      0.00      0.00       1.0\n",
      "                    Table (something)       0.00      0.00      0.00       1.0\n",
      "                              Timebox       0.00      0.00      0.00       0.0\n",
      "                          Triangulate       0.00      0.00      0.00       0.0\n",
      "                            Two cents       0.00      0.00      0.00       0.0\n",
      "                    Value engineering       0.00      0.00      0.00       1.0\n",
      "       Value prop / Value proposition       0.00      0.00      0.00       0.0\n",
      "             Wrap (one's) head around       0.00      0.00      0.00       1.0\n",
      "                                  YTD       0.00      0.00      0.00       0.0\n",
      "\n",
      "                             accuracy                           0.00      38.0\n",
      "                            macro avg       0.00      0.00      0.00      38.0\n",
      "                         weighted avg       0.00      0.00      0.00      38.0\n",
      "\n"
     ]
    },
    {
     "name": "stderr",
     "output_type": "stream",
     "text": [
      "c:\\Users\\USER\\AppData\\Local\\Programs\\Python\\Python310\\lib\\site-packages\\sklearn\\metrics\\_classification.py:1334: UndefinedMetricWarning: Precision and F-score are ill-defined and being set to 0.0 in labels with no predicted samples. Use `zero_division` parameter to control this behavior.\n",
      "  _warn_prf(average, modifier, msg_start, len(result))\n",
      "c:\\Users\\USER\\AppData\\Local\\Programs\\Python\\Python310\\lib\\site-packages\\sklearn\\metrics\\_classification.py:1334: UndefinedMetricWarning: Recall and F-score are ill-defined and being set to 0.0 in labels with no true samples. Use `zero_division` parameter to control this behavior.\n",
      "  _warn_prf(average, modifier, msg_start, len(result))\n",
      "c:\\Users\\USER\\AppData\\Local\\Programs\\Python\\Python310\\lib\\site-packages\\sklearn\\metrics\\_classification.py:1334: UndefinedMetricWarning: Precision and F-score are ill-defined and being set to 0.0 in labels with no predicted samples. Use `zero_division` parameter to control this behavior.\n",
      "  _warn_prf(average, modifier, msg_start, len(result))\n",
      "c:\\Users\\USER\\AppData\\Local\\Programs\\Python\\Python310\\lib\\site-packages\\sklearn\\metrics\\_classification.py:1334: UndefinedMetricWarning: Recall and F-score are ill-defined and being set to 0.0 in labels with no true samples. Use `zero_division` parameter to control this behavior.\n",
      "  _warn_prf(average, modifier, msg_start, len(result))\n",
      "c:\\Users\\USER\\AppData\\Local\\Programs\\Python\\Python310\\lib\\site-packages\\sklearn\\metrics\\_classification.py:1334: UndefinedMetricWarning: Precision and F-score are ill-defined and being set to 0.0 in labels with no predicted samples. Use `zero_division` parameter to control this behavior.\n",
      "  _warn_prf(average, modifier, msg_start, len(result))\n",
      "c:\\Users\\USER\\AppData\\Local\\Programs\\Python\\Python310\\lib\\site-packages\\sklearn\\metrics\\_classification.py:1334: UndefinedMetricWarning: Recall and F-score are ill-defined and being set to 0.0 in labels with no true samples. Use `zero_division` parameter to control this behavior.\n",
      "  _warn_prf(average, modifier, msg_start, len(result))\n",
      "c:\\Users\\USER\\AppData\\Local\\Programs\\Python\\Python310\\lib\\site-packages\\sklearn\\metrics\\_classification.py:1334: UndefinedMetricWarning: Precision and F-score are ill-defined and being set to 0.0 in labels with no predicted samples. Use `zero_division` parameter to control this behavior.\n",
      "  _warn_prf(average, modifier, msg_start, len(result))\n",
      "c:\\Users\\USER\\AppData\\Local\\Programs\\Python\\Python310\\lib\\site-packages\\sklearn\\metrics\\_classification.py:1334: UndefinedMetricWarning: Recall and F-score are ill-defined and being set to 0.0 in labels with no true samples. Use `zero_division` parameter to control this behavior.\n",
      "  _warn_prf(average, modifier, msg_start, len(result))\n",
      "c:\\Users\\USER\\AppData\\Local\\Programs\\Python\\Python310\\lib\\site-packages\\sklearn\\metrics\\_classification.py:1334: UndefinedMetricWarning: Precision and F-score are ill-defined and being set to 0.0 in labels with no predicted samples. Use `zero_division` parameter to control this behavior.\n",
      "  _warn_prf(average, modifier, msg_start, len(result))\n",
      "c:\\Users\\USER\\AppData\\Local\\Programs\\Python\\Python310\\lib\\site-packages\\sklearn\\metrics\\_classification.py:1334: UndefinedMetricWarning: Recall and F-score are ill-defined and being set to 0.0 in labels with no true samples. Use `zero_division` parameter to control this behavior.\n",
      "  _warn_prf(average, modifier, msg_start, len(result))\n",
      "c:\\Users\\USER\\AppData\\Local\\Programs\\Python\\Python310\\lib\\site-packages\\sklearn\\metrics\\_classification.py:1334: UndefinedMetricWarning: Precision and F-score are ill-defined and being set to 0.0 in labels with no predicted samples. Use `zero_division` parameter to control this behavior.\n",
      "  _warn_prf(average, modifier, msg_start, len(result))\n",
      "c:\\Users\\USER\\AppData\\Local\\Programs\\Python\\Python310\\lib\\site-packages\\sklearn\\metrics\\_classification.py:1334: UndefinedMetricWarning: Recall and F-score are ill-defined and being set to 0.0 in labels with no true samples. Use `zero_division` parameter to control this behavior.\n",
      "  _warn_prf(average, modifier, msg_start, len(result))\n"
     ]
    },
    {
     "name": "stdout",
     "output_type": "stream",
     "text": [
      "\n",
      "Random Forest:\n",
      "Accuracy: 0.0000\n",
      "[[0 0 0 ... 0 0 0]\n",
      " [0 0 0 ... 0 0 0]\n",
      " [0 0 0 ... 0 0 0]\n",
      " ...\n",
      " [0 0 0 ... 0 0 0]\n",
      " [1 0 0 ... 0 0 0]\n",
      " [0 0 0 ... 0 0 0]]\n",
      "                                       precision    recall  f1-score   support\n",
      "\n",
      "                                80/20       0.00      0.00      0.00       0.0\n",
      "                                   AP       0.00      0.00      0.00       1.0\n",
      "                            Add value       0.00      0.00      0.00       1.0\n",
      "                              Adjourn       0.00      0.00      0.00       0.0\n",
      "                                  B2B       0.00      0.00      0.00       0.0\n",
      "                                  B2C       0.00      0.00      0.00       1.0\n",
      "               Backburner/Frontburner       0.00      0.00      0.00       1.0\n",
      "                            Bandwidth       0.00      0.00      0.00       1.0\n",
      "                           Bellwether       0.00      0.00      0.00       1.0\n",
      "                Blocking and tackling       0.00      0.00      0.00       1.0\n",
      "                              Buckets       0.00      0.00      0.00       1.0\n",
      "                         Can of worms       0.00      0.00      0.00       0.0\n",
      "                  Chatham House Rules       0.00      0.00      0.00       0.0\n",
      "Committee / Taskforce / Working Group       0.00      0.00      0.00       1.0\n",
      "                              Consult       0.00      0.00      0.00       0.0\n",
      "                      Core competency       0.00      0.00      0.00       1.0\n",
      "                       Counterfactual       0.00      0.00      0.00       0.0\n",
      "                                 Deck       0.00      0.00      0.00       0.0\n",
      "                            Deep dive       0.00      0.00      0.00       0.0\n",
      "                          Deliverable       0.00      0.00      0.00       1.0\n",
      "                        Drop the ball       0.00      0.00      0.00       0.0\n",
      "                           Dry powder       0.00      0.00      0.00       1.0\n",
      "                        Due diligence       0.00      0.00      0.00       0.0\n",
      "                 Elephant in the room       0.00      0.00      0.00       1.0\n",
      "                   Executive decision       0.00      0.00      0.00       1.0\n",
      "                    Executive summary       0.00      0.00      0.00       1.0\n",
      "                                  FTE       0.00      0.00      0.00       1.0\n",
      "                First pass/quick pass       0.00      0.00      0.00       1.0\n",
      "                        Going forward       0.00      0.00      0.00       0.0\n",
      "                       Grandfathering       0.00      0.00      0.00       1.0\n",
      "                             Granular       0.00      0.00      0.00       0.0\n",
      "                             Gut feel       0.00      0.00      0.00       1.0\n",
      "                            Hard copy       0.00      0.00      0.00       0.0\n",
      "                              Inherit       0.00      0.00      0.00       0.0\n",
      "                     It is what it is       0.00      0.00      0.00       0.0\n",
      "                         Key takeaway       0.00      0.00      0.00       1.0\n",
      "                            Level set       0.00      0.00      0.00       0.0\n",
      "         Light a fire under (someone)       0.00      0.00      0.00       0.0\n",
      "                                Model       0.00      0.00      0.00       1.0\n",
      "      Move the needle / Move the dial       0.00      0.00      0.00       0.0\n",
      "                              Net-net       0.00      0.00      0.00       1.0\n",
      "                                  OOO       0.00      0.00      0.00       0.0\n",
      "                             On board       0.00      0.00      0.00       1.0\n",
      "                     On the same page       0.00      0.00      0.00       0.0\n",
      "                          Optionality       0.00      0.00      0.00       1.0\n",
      "                        Out of pocket       0.00      0.00      0.00       1.0\n",
      "                                  POV       0.00      0.00      0.00       1.0\n",
      "                      Pick your brain       0.00      0.00      0.00       0.0\n",
      "                        Pressure test       0.00      0.00      0.00       1.0\n",
      "                Put on the backburner       0.00      0.00      0.00       0.0\n",
      "                                   QC       0.00      0.00      0.00       0.0\n",
      "                          Quarter / Q       0.00      0.00      0.00       1.0\n",
      "                             Red tape       0.00      0.00      0.00       0.0\n",
      "                              Revenue       0.00      0.00      0.00       0.0\n",
      "                             Scalable       0.00      0.00      0.00       1.0\n",
      "                              Segment       0.00      0.00      0.00       1.0\n",
      "                        Shiny objects       0.00      0.00      0.00       1.0\n",
      "  Skunkworks (or Skunk Works Project)       0.00      0.00      0.00       1.0\n",
      "                            Socialize       0.00      0.00      0.00       1.0\n",
      "                         Stakeholders       0.00      0.00      0.00       1.0\n",
      "                             Strawman       0.00      0.00      0.00       1.0\n",
      "                    Table (something)       0.00      0.00      0.00       1.0\n",
      "                              Timebox       0.00      0.00      0.00       0.0\n",
      "                    Value engineering       0.00      0.00      0.00       1.0\n",
      "             Wrap (one's) head around       0.00      0.00      0.00       1.0\n",
      "\n",
      "                             accuracy                           0.00      38.0\n",
      "                            macro avg       0.00      0.00      0.00      38.0\n",
      "                         weighted avg       0.00      0.00      0.00      38.0\n",
      "\n"
     ]
    },
    {
     "name": "stderr",
     "output_type": "stream",
     "text": [
      "c:\\Users\\USER\\AppData\\Local\\Programs\\Python\\Python310\\lib\\site-packages\\sklearn\\metrics\\_classification.py:1334: UndefinedMetricWarning: Precision and F-score are ill-defined and being set to 0.0 in labels with no predicted samples. Use `zero_division` parameter to control this behavior.\n",
      "  _warn_prf(average, modifier, msg_start, len(result))\n",
      "c:\\Users\\USER\\AppData\\Local\\Programs\\Python\\Python310\\lib\\site-packages\\sklearn\\metrics\\_classification.py:1334: UndefinedMetricWarning: Recall and F-score are ill-defined and being set to 0.0 in labels with no true samples. Use `zero_division` parameter to control this behavior.\n",
      "  _warn_prf(average, modifier, msg_start, len(result))\n",
      "c:\\Users\\USER\\AppData\\Local\\Programs\\Python\\Python310\\lib\\site-packages\\sklearn\\metrics\\_classification.py:1334: UndefinedMetricWarning: Precision and F-score are ill-defined and being set to 0.0 in labels with no predicted samples. Use `zero_division` parameter to control this behavior.\n",
      "  _warn_prf(average, modifier, msg_start, len(result))\n",
      "c:\\Users\\USER\\AppData\\Local\\Programs\\Python\\Python310\\lib\\site-packages\\sklearn\\metrics\\_classification.py:1334: UndefinedMetricWarning: Recall and F-score are ill-defined and being set to 0.0 in labels with no true samples. Use `zero_division` parameter to control this behavior.\n",
      "  _warn_prf(average, modifier, msg_start, len(result))\n",
      "c:\\Users\\USER\\AppData\\Local\\Programs\\Python\\Python310\\lib\\site-packages\\sklearn\\metrics\\_classification.py:1334: UndefinedMetricWarning: Precision and F-score are ill-defined and being set to 0.0 in labels with no predicted samples. Use `zero_division` parameter to control this behavior.\n",
      "  _warn_prf(average, modifier, msg_start, len(result))\n",
      "c:\\Users\\USER\\AppData\\Local\\Programs\\Python\\Python310\\lib\\site-packages\\sklearn\\metrics\\_classification.py:1334: UndefinedMetricWarning: Recall and F-score are ill-defined and being set to 0.0 in labels with no true samples. Use `zero_division` parameter to control this behavior.\n",
      "  _warn_prf(average, modifier, msg_start, len(result))\n"
     ]
    },
    {
     "name": "stdout",
     "output_type": "stream",
     "text": [
      "\n",
      "Logistic Regression:\n",
      "Accuracy: 0.0000\n",
      "[[0 0 0 ... 0 0 0]\n",
      " [0 0 0 ... 0 0 0]\n",
      " [0 0 0 ... 1 0 0]\n",
      " ...\n",
      " [0 0 0 ... 0 0 0]\n",
      " [0 0 0 ... 0 0 0]\n",
      " [0 0 0 ... 0 0 0]]\n",
      "                                       precision    recall  f1-score   support\n",
      "\n",
      "                                80/20       0.00      0.00      0.00       0.0\n",
      "                                   AP       0.00      0.00      0.00       1.0\n",
      "                            Add value       0.00      0.00      0.00       1.0\n",
      "                               Agenda       0.00      0.00      0.00       0.0\n",
      "                                  B2B       0.00      0.00      0.00       0.0\n",
      "                                  B2C       0.00      0.00      0.00       1.0\n",
      "               Backburner/Frontburner       0.00      0.00      0.00       1.0\n",
      "                            Bandwidth       0.00      0.00      0.00       1.0\n",
      "                           Bellwether       0.00      0.00      0.00       1.0\n",
      "                             Blessing       0.00      0.00      0.00       0.0\n",
      "                Blocking and tackling       0.00      0.00      0.00       1.0\n",
      "                              Buckets       0.00      0.00      0.00       1.0\n",
      "                  Chatham House Rules       0.00      0.00      0.00       0.0\n",
      "                          Circle back       0.00      0.00      0.00       0.0\n",
      "Committee / Taskforce / Working Group       0.00      0.00      0.00       1.0\n",
      "                              Consult       0.00      0.00      0.00       0.0\n",
      "                      Core competency       0.00      0.00      0.00       1.0\n",
      "                          Deliverable       0.00      0.00      0.00       1.0\n",
      "                                Delta       0.00      0.00      0.00       0.0\n",
      "                        Dive right in       0.00      0.00      0.00       0.0\n",
      "                           Dry powder       0.00      0.00      0.00       1.0\n",
      "                        Due diligence       0.00      0.00      0.00       0.0\n",
      "                                   EA       0.00      0.00      0.00       0.0\n",
      "                              EOD/EOW       0.00      0.00      0.00       0.0\n",
      "                 Elephant in the room       0.00      0.00      0.00       1.0\n",
      "                   Executive decision       0.00      0.00      0.00       1.0\n",
      "                    Executive summary       0.00      0.00      0.00       1.0\n",
      "                                  FTE       0.00      0.00      0.00       1.0\n",
      "                First pass/quick pass       0.00      0.00      0.00       1.0\n",
      "                        Going forward       0.00      0.00      0.00       0.0\n",
      "                       Grandfathering       0.00      0.00      0.00       1.0\n",
      "                             Gut feel       0.00      0.00      0.00       1.0\n",
      "                             Has legs       0.00      0.00      0.00       0.0\n",
      "                                HiPPO       0.00      0.00      0.00       0.0\n",
      "                              Inherit       0.00      0.00      0.00       0.0\n",
      "                     It is what it is       0.00      0.00      0.00       0.0\n",
      "                         Key takeaway       0.00      0.00      0.00       1.0\n",
      "                            Level set       0.00      0.00      0.00       0.0\n",
      "         Light a fire under (someone)       0.00      0.00      0.00       0.0\n",
      "                                 MECE       0.00      0.00      0.00       0.0\n",
      "                                Model       0.00      0.00      0.00       1.0\n",
      "      Move the needle / Move the dial       0.00      0.00      0.00       0.0\n",
      "                              Net-net       0.00      0.00      0.00       1.0\n",
      "                             On board       0.00      0.00      0.00       1.0\n",
      "                          On my radar       0.00      0.00      0.00       0.0\n",
      "                          Optionality       0.00      0.00      0.00       1.0\n",
      "                        Out of pocket       0.00      0.00      0.00       1.0\n",
      "                                  POV       0.00      0.00      0.00       1.0\n",
      "                              Panacea       0.00      0.00      0.00       0.0\n",
      "                        Pressure test       0.00      0.00      0.00       1.0\n",
      "                Put on the backburner       0.00      0.00      0.00       0.0\n",
      "                          Quarter / Q       0.00      0.00      0.00       1.0\n",
      "                              Roadmap       0.00      0.00      0.00       0.0\n",
      "                       Rocket science       0.00      0.00      0.00       0.0\n",
      "                              Save up       0.00      0.00      0.00       0.0\n",
      "                             Scalable       0.00      0.00      0.00       1.0\n",
      "                              Segment       0.00      0.00      0.00       1.0\n",
      "                        Shiny objects       0.00      0.00      0.00       1.0\n",
      "                         Skip manager       0.00      0.00      0.00       0.0\n",
      "  Skunkworks (or Skunk Works Project)       0.00      0.00      0.00       1.0\n",
      "                            Socialize       0.00      0.00      0.00       1.0\n",
      "                         Stakeholders       0.00      0.00      0.00       1.0\n",
      "                             Strawman       0.00      0.00      0.00       1.0\n",
      "                    Table (something)       0.00      0.00      0.00       1.0\n",
      "                              Timebox       0.00      0.00      0.00       0.0\n",
      "                          Triangulate       0.00      0.00      0.00       0.0\n",
      "                            Two cents       0.00      0.00      0.00       0.0\n",
      "                    Value engineering       0.00      0.00      0.00       1.0\n",
      "       Value prop / Value proposition       0.00      0.00      0.00       0.0\n",
      "             Wrap (one's) head around       0.00      0.00      0.00       1.0\n",
      "                                  YTD       0.00      0.00      0.00       0.0\n",
      "\n",
      "                             accuracy                           0.00      38.0\n",
      "                            macro avg       0.00      0.00      0.00      38.0\n",
      "                         weighted avg       0.00      0.00      0.00      38.0\n",
      "\n"
     ]
    },
    {
     "name": "stderr",
     "output_type": "stream",
     "text": [
      "c:\\Users\\USER\\AppData\\Local\\Programs\\Python\\Python310\\lib\\site-packages\\sklearn\\metrics\\_classification.py:1334: UndefinedMetricWarning: Precision and F-score are ill-defined and being set to 0.0 in labels with no predicted samples. Use `zero_division` parameter to control this behavior.\n",
      "  _warn_prf(average, modifier, msg_start, len(result))\n",
      "c:\\Users\\USER\\AppData\\Local\\Programs\\Python\\Python310\\lib\\site-packages\\sklearn\\metrics\\_classification.py:1334: UndefinedMetricWarning: Recall and F-score are ill-defined and being set to 0.0 in labels with no true samples. Use `zero_division` parameter to control this behavior.\n",
      "  _warn_prf(average, modifier, msg_start, len(result))\n",
      "c:\\Users\\USER\\AppData\\Local\\Programs\\Python\\Python310\\lib\\site-packages\\sklearn\\metrics\\_classification.py:1334: UndefinedMetricWarning: Precision and F-score are ill-defined and being set to 0.0 in labels with no predicted samples. Use `zero_division` parameter to control this behavior.\n",
      "  _warn_prf(average, modifier, msg_start, len(result))\n",
      "c:\\Users\\USER\\AppData\\Local\\Programs\\Python\\Python310\\lib\\site-packages\\sklearn\\metrics\\_classification.py:1334: UndefinedMetricWarning: Recall and F-score are ill-defined and being set to 0.0 in labels with no true samples. Use `zero_division` parameter to control this behavior.\n",
      "  _warn_prf(average, modifier, msg_start, len(result))\n",
      "c:\\Users\\USER\\AppData\\Local\\Programs\\Python\\Python310\\lib\\site-packages\\sklearn\\metrics\\_classification.py:1334: UndefinedMetricWarning: Precision and F-score are ill-defined and being set to 0.0 in labels with no predicted samples. Use `zero_division` parameter to control this behavior.\n",
      "  _warn_prf(average, modifier, msg_start, len(result))\n",
      "c:\\Users\\USER\\AppData\\Local\\Programs\\Python\\Python310\\lib\\site-packages\\sklearn\\metrics\\_classification.py:1334: UndefinedMetricWarning: Recall and F-score are ill-defined and being set to 0.0 in labels with no true samples. Use `zero_division` parameter to control this behavior.\n",
      "  _warn_prf(average, modifier, msg_start, len(result))\n"
     ]
    }
   ],
   "source": [
    "for name, model in models.items():\n",
    "    model.fit(X_train_vectorized, y_train)\n",
    "    y_pred = model.predict(X_test_vectorized)\n",
    "    accuracy = accuracy_score(y_test, y_pred)\n",
    "    print(f'\\n{name}:')\n",
    "    print(f\"Accuracy: {accuracy:.4f}\")\n",
    "    print(confusion_matrix(y_test, y_pred))\n",
    "    print(classification_report(y_test, y_pred))"
   ]
  },
  {
   "cell_type": "code",
   "execution_count": 17,
   "metadata": {},
   "outputs": [],
   "source": [
    "# Example of prediction\n",
    "def predict_term(text, model, vectorizer):\n",
    "    text_vectorized = vectorizer.transform([text])\n",
    "    return model.predict(text_vectorized)[0]"
   ]
  },
  {
   "cell_type": "code",
   "execution_count": 19,
   "metadata": {},
   "outputs": [
    {
     "name": "stdout",
     "output_type": "stream",
     "text": [
      "\n",
      "Predicted term for 'The ball is in the legal department's court. We need their approval before we can proceed.': Ball in \\[someone's\\] court\n"
     ]
    }
   ],
   "source": [
    "\n",
    "# Use the best performing model for prediction (replace with your best model)\n",
    "best_model = models['Logistic Regression']  # Change this to your best model\n",
    "example_text = \"The ball is in the legal department's court. We need their approval before we can proceed.\"\n",
    "predicted_term = predict_term(example_text, best_model, vectorizer)\n",
    "print(f\"\\nPredicted term for '{example_text}': {predicted_term}\")"
   ]
  },
  {
   "cell_type": "code",
   "execution_count": 20,
   "metadata": {},
   "outputs": [
    {
     "name": "stdout",
     "output_type": "stream",
     "text": [
      "\n",
      "Predicted term for 'The ball is in the legal department's court. We need their approval before we can proceed.': Ball in \\[someone's\\] court\n"
     ]
    }
   ],
   "source": [
    "\n",
    "# Use the best performing model for prediction (replace with your best model)\n",
    "best_model = models['Random Forest']  # Change this to your best model\n",
    "example_text = \"The ball is in the legal department's court. We need their approval before we can proceed.\"\n",
    "predicted_term = predict_term(example_text, best_model, vectorizer)\n",
    "print(f\"\\nPredicted term for '{example_text}': {predicted_term}\")"
   ]
  },
  {
   "cell_type": "code",
   "execution_count": 21,
   "metadata": {},
   "outputs": [
    {
     "name": "stdout",
     "output_type": "stream",
     "text": [
      "\n",
      "Predicted term for 'as soon as possible': ASAP\n"
     ]
    }
   ],
   "source": [
    "\n",
    "# Use the best performing model for prediction (replace with your best model)\n",
    "best_model = models['Linear SVM']  # Change this to your best model\n",
    "example_text = \"as soon as possible\"\n",
    "predicted_term = predict_term(example_text, best_model, vectorizer)\n",
    "print(f\"\\nPredicted term for '{example_text}': {predicted_term}\")"
   ]
  },
  {
   "cell_type": "code",
   "execution_count": 22,
   "metadata": {},
   "outputs": [
    {
     "name": "stdout",
     "output_type": "stream",
     "text": [
      "\n",
      "Predicted term for 'let me circle back to you on this': Circle back\n"
     ]
    }
   ],
   "source": [
    "\n",
    "# Use the best performing model for prediction (replace with your best model)\n",
    "best_model = models['Multinomial Naive Bayes']  # Change this to your best model\n",
    "example_text = \"\"\n",
    "predicted_term = predict_term(example_text, best_model, vectorizer)\n",
    "print(f\"\\nPredicted term for '{example_text}': {predicted_term}\")"
   ]
  },
  {
   "cell_type": "code",
   "execution_count": 23,
   "metadata": {},
   "outputs": [
    {
     "name": "stdout",
     "output_type": "stream",
     "text": [
      "Testing the model with example phrases:\n",
      "Input: 'Let's circle back on this issue next week.'\n",
      "Predicted: Can of worms\n",
      "\n",
      "Input: 'The weather is nice today.'\n",
      "Predicted: On my radar\n",
      "\n",
      "Input: 'We need to move the needle on this project.'\n",
      "Predicted: Move the needle / Move the dial\n",
      "\n",
      "Input: 'I'm going to the grocery store after work.'\n",
      "Predicted: Lever... to pull\n",
      "\n",
      "Input: 'Can you give me a high-level overview of the situation?'\n",
      "Predicted: Take to the next level\n",
      "\n",
      "Input: 'Let's discuss this over lunch.'\n",
      "Predicted: Touch base\n",
      "\n",
      "Input: 'We should leverage our core competencies.'\n",
      "Predicted: Leverage\n",
      "\n",
      "Input: 'What time does the movie start?'\n",
      "Predicted: Resonate\n",
      "\n",
      "Input: 'Let's run the numbers again.'\n",
      "Predicted: Deck\n",
      "\n",
      "Input: 'We need to push this live.'\n",
      "Predicted: Push back\n",
      "\n"
     ]
    }
   ],
   "source": [
    "def test_model(model, vectorizer, examples):\n",
    "    for example in examples:\n",
    "        prediction = predict_term(example, model, vectorizer)\n",
    "        print(f\"Input: '{example}'\\nPredicted: {prediction}\\n\")\n",
    "\n",
    "# List of test examples\n",
    "test_examples = [\n",
    "    \"Let's circle back on this issue next week.\",\n",
    "    \"The weather is nice today.\",\n",
    "    \"We need to move the needle on this project.\",\n",
    "    \"I'm going to the grocery store after work.\",\n",
    "    \"Can you give me a high-level overview of the situation?\",\n",
    "    \"Let's discuss this over lunch.\",\n",
    "    \"We should leverage our core competencies.\",\n",
    "    \"What time does the movie start?\",\n",
    "    \"Let's run the numbers again.\",\n",
    "    \"We need to push this live.\"\n",
    "]\n",
    "\n",
    "print(\"Testing the model with example phrases:\")\n",
    "test_model(best_model, vectorizer, test_examples)"
   ]
  },
  {
   "cell_type": "code",
   "execution_count": 24,
   "metadata": {},
   "outputs": [],
   "source": [
    "import pickle"
   ]
  },
  {
   "cell_type": "code",
   "execution_count": 28,
   "metadata": {},
   "outputs": [],
   "source": [
    "with open('models/multinomial_nb.pkl','wb') as f:\n",
    "    pickle.dump(models['Multinomial Naive Bayes'],f)\n",
    "    \n",
    "with open('models/multinomial_nb.pkl','rb') as f:\n",
    "    loaded_model = pickle.load(f)"
   ]
  },
  {
   "cell_type": "code",
   "execution_count": 29,
   "metadata": {},
   "outputs": [
    {
     "data": {
      "text/html": [
       "<style>#sk-container-id-1 {color: black;background-color: white;}#sk-container-id-1 pre{padding: 0;}#sk-container-id-1 div.sk-toggleable {background-color: white;}#sk-container-id-1 label.sk-toggleable__label {cursor: pointer;display: block;width: 100%;margin-bottom: 0;padding: 0.3em;box-sizing: border-box;text-align: center;}#sk-container-id-1 label.sk-toggleable__label-arrow:before {content: \"▸\";float: left;margin-right: 0.25em;color: #696969;}#sk-container-id-1 label.sk-toggleable__label-arrow:hover:before {color: black;}#sk-container-id-1 div.sk-estimator:hover label.sk-toggleable__label-arrow:before {color: black;}#sk-container-id-1 div.sk-toggleable__content {max-height: 0;max-width: 0;overflow: hidden;text-align: left;background-color: #f0f8ff;}#sk-container-id-1 div.sk-toggleable__content pre {margin: 0.2em;color: black;border-radius: 0.25em;background-color: #f0f8ff;}#sk-container-id-1 input.sk-toggleable__control:checked~div.sk-toggleable__content {max-height: 200px;max-width: 100%;overflow: auto;}#sk-container-id-1 input.sk-toggleable__control:checked~label.sk-toggleable__label-arrow:before {content: \"▾\";}#sk-container-id-1 div.sk-estimator input.sk-toggleable__control:checked~label.sk-toggleable__label {background-color: #d4ebff;}#sk-container-id-1 div.sk-label input.sk-toggleable__control:checked~label.sk-toggleable__label {background-color: #d4ebff;}#sk-container-id-1 input.sk-hidden--visually {border: 0;clip: rect(1px 1px 1px 1px);clip: rect(1px, 1px, 1px, 1px);height: 1px;margin: -1px;overflow: hidden;padding: 0;position: absolute;width: 1px;}#sk-container-id-1 div.sk-estimator {font-family: monospace;background-color: #f0f8ff;border: 1px dotted black;border-radius: 0.25em;box-sizing: border-box;margin-bottom: 0.5em;}#sk-container-id-1 div.sk-estimator:hover {background-color: #d4ebff;}#sk-container-id-1 div.sk-parallel-item::after {content: \"\";width: 100%;border-bottom: 1px solid gray;flex-grow: 1;}#sk-container-id-1 div.sk-label:hover label.sk-toggleable__label {background-color: #d4ebff;}#sk-container-id-1 div.sk-serial::before {content: \"\";position: absolute;border-left: 1px solid gray;box-sizing: border-box;top: 0;bottom: 0;left: 50%;z-index: 0;}#sk-container-id-1 div.sk-serial {display: flex;flex-direction: column;align-items: center;background-color: white;padding-right: 0.2em;padding-left: 0.2em;position: relative;}#sk-container-id-1 div.sk-item {position: relative;z-index: 1;}#sk-container-id-1 div.sk-parallel {display: flex;align-items: stretch;justify-content: center;background-color: white;position: relative;}#sk-container-id-1 div.sk-item::before, #sk-container-id-1 div.sk-parallel-item::before {content: \"\";position: absolute;border-left: 1px solid gray;box-sizing: border-box;top: 0;bottom: 0;left: 50%;z-index: -1;}#sk-container-id-1 div.sk-parallel-item {display: flex;flex-direction: column;z-index: 1;position: relative;background-color: white;}#sk-container-id-1 div.sk-parallel-item:first-child::after {align-self: flex-end;width: 50%;}#sk-container-id-1 div.sk-parallel-item:last-child::after {align-self: flex-start;width: 50%;}#sk-container-id-1 div.sk-parallel-item:only-child::after {width: 0;}#sk-container-id-1 div.sk-dashed-wrapped {border: 1px dashed gray;margin: 0 0.4em 0.5em 0.4em;box-sizing: border-box;padding-bottom: 0.4em;background-color: white;}#sk-container-id-1 div.sk-label label {font-family: monospace;font-weight: bold;display: inline-block;line-height: 1.2em;}#sk-container-id-1 div.sk-label-container {text-align: center;}#sk-container-id-1 div.sk-container {/* jupyter's `normalize.less` sets `[hidden] { display: none; }` but bootstrap.min.css set `[hidden] { display: none !important; }` so we also need the `!important` here to be able to override the default hidden behavior on the sphinx rendered scikit-learn.org. See: https://github.com/scikit-learn/scikit-learn/issues/21755 */display: inline-block !important;position: relative;}#sk-container-id-1 div.sk-text-repr-fallback {display: none;}</style><div id=\"sk-container-id-1\" class=\"sk-top-container\"><div class=\"sk-text-repr-fallback\"><pre>MultinomialNB()</pre><b>In a Jupyter environment, please rerun this cell to show the HTML representation or trust the notebook. <br />On GitHub, the HTML representation is unable to render, please try loading this page with nbviewer.org.</b></div><div class=\"sk-container\" hidden><div class=\"sk-item\"><div class=\"sk-estimator sk-toggleable\"><input class=\"sk-toggleable__control sk-hidden--visually\" id=\"sk-estimator-id-1\" type=\"checkbox\" checked><label for=\"sk-estimator-id-1\" class=\"sk-toggleable__label sk-toggleable__label-arrow\">MultinomialNB</label><div class=\"sk-toggleable__content\"><pre>MultinomialNB()</pre></div></div></div></div></div>"
      ],
      "text/plain": [
       "MultinomialNB()"
      ]
     },
     "execution_count": 29,
     "metadata": {},
     "output_type": "execute_result"
    }
   ],
   "source": [
    "loaded_model"
   ]
  },
  {
   "cell_type": "code",
   "execution_count": 33,
   "metadata": {},
   "outputs": [],
   "source": [
    "with open('models/linear_svc.pkl','wb') as f:\n",
    "    pickle.dump(models['Linear SVM'],f)\n"
   ]
  },
  {
   "cell_type": "code",
   "execution_count": 31,
   "metadata": {},
   "outputs": [],
   "source": [
    "with open('models/random_forest.pkl','wb') as f:\n",
    "    pickle.dump(models['Random Forest'],f)\n"
   ]
  },
  {
   "cell_type": "code",
   "execution_count": 32,
   "metadata": {},
   "outputs": [],
   "source": [
    "with open('models/logistic_regression.pkl','wb') as f:\n",
    "    pickle.dump(models['Logistic Regression'],f)\n"
   ]
  },
  {
   "cell_type": "code",
   "execution_count": 39,
   "metadata": {},
   "outputs": [],
   "source": [
    "with open('models/tfidf_vectorizer.pkl','wb') as f:\n",
    "    pickle.dump(models['TfidfVectorizer'],f)\n"
   ]
  },
  {
   "cell_type": "code",
   "execution_count": null,
   "metadata": {},
   "outputs": [],
   "source": []
  }
 ],
 "metadata": {
  "kernelspec": {
   "display_name": "Python 3",
   "language": "python",
   "name": "python3"
  },
  "language_info": {
   "codemirror_mode": {
    "name": "ipython",
    "version": 3
   },
   "file_extension": ".py",
   "mimetype": "text/x-python",
   "name": "python",
   "nbconvert_exporter": "python",
   "pygments_lexer": "ipython3",
   "version": "3.10.7"
  },
  "orig_nbformat": 4
 },
 "nbformat": 4,
 "nbformat_minor": 2
}
