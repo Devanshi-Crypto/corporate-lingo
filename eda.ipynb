{
 "cells": [
  {
   "cell_type": "code",
   "execution_count": 14,
   "metadata": {},
   "outputs": [],
   "source": [
    "import pandas as pd\n",
    "import matplotlib.pyplot as plt\n",
    "import seaborn as sns\n",
    "from wordcloud import WordCloud"
   ]
  },
  {
   "cell_type": "code",
   "execution_count": 2,
   "metadata": {},
   "outputs": [
    {
     "name": "stdout",
     "output_type": "stream",
     "text": [
      "               Term                                         Definition  \\\n",
      "0               2.0                 the improved version of something.   \n",
      "1  30,000-feet view        looking at something in the broadest sense.   \n",
      "2             80/20  finding the way that will lead to the most pro...   \n",
      "3       Action item                    something that has to get done.   \n",
      "4        Actionable                                                NaN   \n",
      "\n",
      "                                             Example  \n",
      "0           \"Let's call this the Strategic Plan 2.0\"  \n",
      "1       \"At the 30,000-feet view, the problem is...\"  \n",
      "2  \"We don't have time to do a full analysis. Let...  \n",
      "3    \"Did any action items come out of the meeting?\"  \n",
      "4  \"Your email isn't actionable enough. What do y...  \n"
     ]
    }
   ],
   "source": [
    "#Load and explore data\n",
    "df = pd.read_csv('corporate_lingo.csv')\n",
    "print(df.head())"
   ]
  },
  {
   "cell_type": "code",
   "execution_count": 3,
   "metadata": {},
   "outputs": [
    {
     "name": "stdout",
     "output_type": "stream",
     "text": [
      "<class 'pandas.core.frame.DataFrame'>\n",
      "RangeIndex: 189 entries, 0 to 188\n",
      "Data columns (total 3 columns):\n",
      " #   Column      Non-Null Count  Dtype \n",
      "---  ------      --------------  ----- \n",
      " 0   Term        189 non-null    object\n",
      " 1   Definition  180 non-null    object\n",
      " 2   Example     188 non-null    object\n",
      "dtypes: object(3)\n",
      "memory usage: 4.6+ KB\n",
      "None\n"
     ]
    }
   ],
   "source": [
    "print(df.info())"
   ]
  },
  {
   "cell_type": "code",
   "execution_count": 6,
   "metadata": {},
   "outputs": [
    {
     "name": "stdout",
     "output_type": "stream",
     "text": [
      "2.0                      1\n",
      "Plenary                  1\n",
      "Optics                   1\n",
      "Optimize                 1\n",
      "Optionality              1\n",
      "                        ..\n",
      "Executive decision       1\n",
      "Executive summary        1\n",
      "First pass/quick pass    1\n",
      "Framework                1\n",
      "YTD                      1\n",
      "Name: Term, Length: 189, dtype: int64\n",
      "the improved version of something.                                                                                                                                                                                       1\n",
      "how people perceive the situation.                                                                                                                                                                                       1\n",
      "to give people the freedom to choose.                                                                                                                                                                                    1\n",
      "something that will solve every problem.                                                                                                                                                                                 1\n",
      "something that fundamentally changes people's thinking.                                                                                                                                                                  1\n",
      "                                                                                                                                                                                                                        ..\n",
      "\"Full-Time Employee\", which is someone who works for 40 hours per week or however many hours is considered full-time.                                                                                                    1\n",
      "the type of company (e.g. Technology, Retail).                                                                                                                                                                           1\n",
      "\"For Your Information\" (Information you are sharing and that people don't need to reply to).                                                                                                                             1\n",
      "a chart that lists a series of tasks that need to get done as part of a project along the side, a list of upcoming dates on the top, and a series of bars in the middle showing when each of the tasks will get done.    1\n",
      "\"Year to Date”, or the time between January 1st of this year and now.                                                                                                                                                    1\n",
      "Name: Definition, Length: 180, dtype: int64\n",
      "\"We need a blue ocean strategy because the ocean where we’re playing is red.\"                                                                                                                                                                                                    2\n",
      "\"At first, we thought we were selling our software to international students on an H-1B work visas. After further market research, however, we realized that our most avid paying customers are actually immigration lawyers, so we pivoted from selling B2C to selling B2B.\"    1\n",
      "\"Let's double-check this form before we make it live since we don't want to open the floodgates to questions from confused customers\"                                                                                                                                            1\n",
      "\"It's bad optics if the intern presents to the client.\"                                                                                                                                                                                                                          1\n",
      "\"If you find yourself doing the same thing multiple times, try to optimize the way you approach the task by looking for a shortcut or more efficient approach.\"                                                                                                                  1\n",
      "                                                                                                                                                                                                                                                                                ..\n",
      "\"Don't waste people's time with a long poll for food preferences. Just make an executive decision.\"                                                                                                                                                                              1\n",
      "\"When explaining ideas to people, start with the executive summary–then pause and let others react, rather than dive straight into the details.\"                                                                                                                                 1\n",
      "\"Please find attached my first pass at a draft email for Joe. Let me know if you have any edits.\"                                                                                                                                                                                1\n",
      "\"Given the many ideas floating around the team for blog posts, I suggest that we look at new content through the following framework: (1)\"                                                                                                                                       1\n",
      "\"What is our YTD website traffic?\"                                                                                                                                                                                                                                               1\n",
      "Name: Example, Length: 187, dtype: int64\n"
     ]
    }
   ],
   "source": [
    "#EDA\n",
    "print(df['Term'].value_counts())\n",
    "print(df['Definition'].value_counts())\n",
    "print(df['Example'].value_counts())"
   ]
  },
  {
   "cell_type": "code",
   "execution_count": 7,
   "metadata": {},
   "outputs": [],
   "source": [
    "plt.figure(figsize=(12, 6))\n",
    "df['Term Length'] = df['Term'].str.len()\n",
    "sns.histplot(df['Term Length'], kde=True)\n",
    "plt.title('Distribution of Term Lengths')\n",
    "plt.savefig('term_length_distribution.png')\n",
    "plt.close()"
   ]
  },
  {
   "cell_type": "code",
   "execution_count": 11,
   "metadata": {},
   "outputs": [],
   "source": [
    "plt.figure(figsize=(12, 6))\n",
    "df['Define Length'] = df['Definition'].str.len()\n",
    "sns.histplot(df['Define Length'], kde=True)\n",
    "plt.title('Distribution of define Lengths')\n",
    "plt.savefig('define_length_distribution.png')\n",
    "plt.close()"
   ]
  },
  {
   "cell_type": "code",
   "execution_count": 9,
   "metadata": {},
   "outputs": [],
   "source": [
    "plt.figure(figsize=(12, 6))\n",
    "df['Example Length'] = df['Example'].str.len()\n",
    "sns.histplot(df['Example Length'], kde=True)\n",
    "plt.title('Distribution of Example Lengths')\n",
    "plt.savefig('example_length_distribution.png')\n",
    "plt.close()"
   ]
  },
  {
   "cell_type": "code",
   "execution_count": 15,
   "metadata": {},
   "outputs": [],
   "source": [
    "# Word cloud of terms\n",
    "wordcloud = WordCloud(width=800, height=400, background_color='white').generate(' '.join(df['Term']))\n",
    "plt.figure(figsize=(10, 5))\n",
    "plt.imshow(wordcloud, interpolation='bilinear')\n",
    "plt.axis('off')\n",
    "plt.title('Word Cloud of Corporate Lingo Terms')\n",
    "plt.savefig('term_wordcloud.png')"
   ]
  }
 ],
 "metadata": {
  "kernelspec": {
   "display_name": "Python 3",
   "language": "python",
   "name": "python3"
  },
  "language_info": {
   "codemirror_mode": {
    "name": "ipython",
    "version": 3
   },
   "file_extension": ".py",
   "mimetype": "text/x-python",
   "name": "python",
   "nbconvert_exporter": "python",
   "pygments_lexer": "ipython3",
   "version": "3.10.7"
  },
  "orig_nbformat": 4
 },
 "nbformat": 4,
 "nbformat_minor": 2
}
